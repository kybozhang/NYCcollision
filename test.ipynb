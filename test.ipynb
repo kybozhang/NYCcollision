{
 "cells": [
  {
   "cell_type": "code",
   "execution_count": 1,
   "metadata": {},
   "outputs": [
    {
     "name": "stdout",
     "output_type": "stream",
     "text": [
      "hello world!\n"
     ]
    }
   ],
   "source": [
    "print(\"hello world!\")"
   ]
  },
  {
   "cell_type": "code",
   "execution_count": 1,
   "metadata": {},
   "outputs": [
    {
     "name": "stderr",
     "output_type": "stream",
     "text": [
      "D:\\Anaconda3\\lib\\site-packages\\IPython\\core\\interactiveshell.py:3049: DtypeWarning: Columns (3) have mixed types. Specify dtype option on import or set low_memory=False.\n",
      "  interactivity=interactivity, compiler=compiler, result=result)\n"
     ]
    },
    {
     "data": {
      "text/html": [
       "<div>\n",
       "<style scoped>\n",
       "    .dataframe tbody tr th:only-of-type {\n",
       "        vertical-align: middle;\n",
       "    }\n",
       "\n",
       "    .dataframe tbody tr th {\n",
       "        vertical-align: top;\n",
       "    }\n",
       "\n",
       "    .dataframe thead th {\n",
       "        text-align: right;\n",
       "    }\n",
       "</style>\n",
       "<table border=\"1\" class=\"dataframe\">\n",
       "  <thead>\n",
       "    <tr style=\"text-align: right;\">\n",
       "      <th></th>\n",
       "      <th>DATE</th>\n",
       "      <th>TIME</th>\n",
       "      <th>BOROUGH</th>\n",
       "      <th>ZIP CODE</th>\n",
       "      <th>LATITUDE</th>\n",
       "      <th>LONGITUDE</th>\n",
       "      <th>LOCATION</th>\n",
       "      <th>ON STREET NAME</th>\n",
       "      <th>CROSS STREET NAME</th>\n",
       "      <th>OFF STREET NAME</th>\n",
       "      <th>...</th>\n",
       "      <th>CONTRIBUTING FACTOR VEHICLE 2</th>\n",
       "      <th>CONTRIBUTING FACTOR VEHICLE 3</th>\n",
       "      <th>CONTRIBUTING FACTOR VEHICLE 4</th>\n",
       "      <th>CONTRIBUTING FACTOR VEHICLE 5</th>\n",
       "      <th>UNIQUE KEY</th>\n",
       "      <th>VEHICLE TYPE CODE 1</th>\n",
       "      <th>VEHICLE TYPE CODE 2</th>\n",
       "      <th>VEHICLE TYPE CODE 3</th>\n",
       "      <th>VEHICLE TYPE CODE 4</th>\n",
       "      <th>VEHICLE TYPE CODE 5</th>\n",
       "    </tr>\n",
       "  </thead>\n",
       "  <tbody>\n",
       "    <tr>\n",
       "      <th>0</th>\n",
       "      <td>2019-04-28</td>\n",
       "      <td>0:00</td>\n",
       "      <td>BROOKLYN</td>\n",
       "      <td>11208</td>\n",
       "      <td>40.685050</td>\n",
       "      <td>-73.875950</td>\n",
       "      <td>(40.68505, -73.87595)</td>\n",
       "      <td>NaN</td>\n",
       "      <td>NaN</td>\n",
       "      <td>126       CHESTNUT STREET</td>\n",
       "      <td>...</td>\n",
       "      <td>Passing Too Closely</td>\n",
       "      <td>NaN</td>\n",
       "      <td>NaN</td>\n",
       "      <td>NaN</td>\n",
       "      <td>4122662</td>\n",
       "      <td>Sedan</td>\n",
       "      <td>NaN</td>\n",
       "      <td>NaN</td>\n",
       "      <td>NaN</td>\n",
       "      <td>NaN</td>\n",
       "    </tr>\n",
       "    <tr>\n",
       "      <th>1</th>\n",
       "      <td>2019-04-28</td>\n",
       "      <td>0:00</td>\n",
       "      <td>QUEENS</td>\n",
       "      <td>11419</td>\n",
       "      <td>40.690490</td>\n",
       "      <td>-73.816086</td>\n",
       "      <td>(40.69049, -73.816086)</td>\n",
       "      <td>103 AVENUE</td>\n",
       "      <td>130 STREET</td>\n",
       "      <td>NaN</td>\n",
       "      <td>...</td>\n",
       "      <td>Unspecified</td>\n",
       "      <td>NaN</td>\n",
       "      <td>NaN</td>\n",
       "      <td>NaN</td>\n",
       "      <td>4121710</td>\n",
       "      <td>Station Wagon/Sport Utility Vehicle</td>\n",
       "      <td>Station Wagon/Sport Utility Vehicle</td>\n",
       "      <td>NaN</td>\n",
       "      <td>NaN</td>\n",
       "      <td>NaN</td>\n",
       "    </tr>\n",
       "    <tr>\n",
       "      <th>2</th>\n",
       "      <td>2019-04-28</td>\n",
       "      <td>0:00</td>\n",
       "      <td>NaN</td>\n",
       "      <td>NaN</td>\n",
       "      <td>40.699955</td>\n",
       "      <td>-73.986820</td>\n",
       "      <td>(40.699955, -73.98682)</td>\n",
       "      <td>JAY STREET</td>\n",
       "      <td>SANDS STREET</td>\n",
       "      <td>NaN</td>\n",
       "      <td>...</td>\n",
       "      <td>Unspecified</td>\n",
       "      <td>NaN</td>\n",
       "      <td>NaN</td>\n",
       "      <td>NaN</td>\n",
       "      <td>4122602</td>\n",
       "      <td>Sedan</td>\n",
       "      <td>Bike</td>\n",
       "      <td>NaN</td>\n",
       "      <td>NaN</td>\n",
       "      <td>NaN</td>\n",
       "    </tr>\n",
       "    <tr>\n",
       "      <th>3</th>\n",
       "      <td>2019-04-28</td>\n",
       "      <td>0:01</td>\n",
       "      <td>QUEENS</td>\n",
       "      <td>11369</td>\n",
       "      <td>40.760900</td>\n",
       "      <td>-73.870180</td>\n",
       "      <td>(40.7609, -73.87018)</td>\n",
       "      <td>99 STREET</td>\n",
       "      <td>31 AVENUE</td>\n",
       "      <td>NaN</td>\n",
       "      <td>...</td>\n",
       "      <td>Unspecified</td>\n",
       "      <td>NaN</td>\n",
       "      <td>NaN</td>\n",
       "      <td>NaN</td>\n",
       "      <td>4123523</td>\n",
       "      <td>Sedan</td>\n",
       "      <td>Station Wagon/Sport Utility Vehicle</td>\n",
       "      <td>NaN</td>\n",
       "      <td>NaN</td>\n",
       "      <td>NaN</td>\n",
       "    </tr>\n",
       "    <tr>\n",
       "      <th>4</th>\n",
       "      <td>2019-04-28</td>\n",
       "      <td>0:05</td>\n",
       "      <td>BROOKLYN</td>\n",
       "      <td>11233</td>\n",
       "      <td>40.676884</td>\n",
       "      <td>-73.919230</td>\n",
       "      <td>(40.676884, -73.91923)</td>\n",
       "      <td>HOWARD AVENUE</td>\n",
       "      <td>ATLANTIC AVENUE</td>\n",
       "      <td>NaN</td>\n",
       "      <td>...</td>\n",
       "      <td>Unspecified</td>\n",
       "      <td>Unspecified</td>\n",
       "      <td>NaN</td>\n",
       "      <td>NaN</td>\n",
       "      <td>4122095</td>\n",
       "      <td>Station Wagon/Sport Utility Vehicle</td>\n",
       "      <td>Sedan</td>\n",
       "      <td>Sedan</td>\n",
       "      <td>NaN</td>\n",
       "      <td>NaN</td>\n",
       "    </tr>\n",
       "  </tbody>\n",
       "</table>\n",
       "<p>5 rows × 29 columns</p>\n",
       "</div>"
      ],
      "text/plain": [
       "        DATE  TIME   BOROUGH ZIP CODE   LATITUDE  LONGITUDE  \\\n",
       "0 2019-04-28  0:00  BROOKLYN    11208  40.685050 -73.875950   \n",
       "1 2019-04-28  0:00    QUEENS    11419  40.690490 -73.816086   \n",
       "2 2019-04-28  0:00       NaN      NaN  40.699955 -73.986820   \n",
       "3 2019-04-28  0:01    QUEENS    11369  40.760900 -73.870180   \n",
       "4 2019-04-28  0:05  BROOKLYN    11233  40.676884 -73.919230   \n",
       "\n",
       "                 LOCATION                    ON STREET NAME CROSS STREET NAME  \\\n",
       "0   (40.68505, -73.87595)                               NaN               NaN   \n",
       "1  (40.69049, -73.816086)  103 AVENUE                              130 STREET   \n",
       "2  (40.699955, -73.98682)  JAY STREET                            SANDS STREET   \n",
       "3    (40.7609, -73.87018)  99 STREET                                31 AVENUE   \n",
       "4  (40.676884, -73.91923)  HOWARD AVENUE                      ATLANTIC AVENUE   \n",
       "\n",
       "                            OFF STREET NAME  ...  \\\n",
       "0  126       CHESTNUT STREET                 ...   \n",
       "1                                       NaN  ...   \n",
       "2                                       NaN  ...   \n",
       "3                                       NaN  ...   \n",
       "4                                       NaN  ...   \n",
       "\n",
       "   CONTRIBUTING FACTOR VEHICLE 2  CONTRIBUTING FACTOR VEHICLE 3  \\\n",
       "0            Passing Too Closely                            NaN   \n",
       "1                    Unspecified                            NaN   \n",
       "2                    Unspecified                            NaN   \n",
       "3                    Unspecified                            NaN   \n",
       "4                    Unspecified                    Unspecified   \n",
       "\n",
       "   CONTRIBUTING FACTOR VEHICLE 4  CONTRIBUTING FACTOR VEHICLE 5  UNIQUE KEY  \\\n",
       "0                            NaN                            NaN     4122662   \n",
       "1                            NaN                            NaN     4121710   \n",
       "2                            NaN                            NaN     4122602   \n",
       "3                            NaN                            NaN     4123523   \n",
       "4                            NaN                            NaN     4122095   \n",
       "\n",
       "                   VEHICLE TYPE CODE 1                  VEHICLE TYPE CODE 2  \\\n",
       "0                                Sedan                                  NaN   \n",
       "1  Station Wagon/Sport Utility Vehicle  Station Wagon/Sport Utility Vehicle   \n",
       "2                                Sedan                                 Bike   \n",
       "3                                Sedan  Station Wagon/Sport Utility Vehicle   \n",
       "4  Station Wagon/Sport Utility Vehicle                                Sedan   \n",
       "\n",
       "   VEHICLE TYPE CODE 3 VEHICLE TYPE CODE 4 VEHICLE TYPE CODE 5  \n",
       "0                  NaN                 NaN                 NaN  \n",
       "1                  NaN                 NaN                 NaN  \n",
       "2                  NaN                 NaN                 NaN  \n",
       "3                  NaN                 NaN                 NaN  \n",
       "4                Sedan                 NaN                 NaN  \n",
       "\n",
       "[5 rows x 29 columns]"
      ]
     },
     "execution_count": 1,
     "metadata": {},
     "output_type": "execute_result"
    }
   ],
   "source": [
    "import pandas as pd\n",
    "\n",
    "data = pd.read_csv(\"NYPD_test.csv\", parse_dates = [\"DATE\"])\n",
    "\n",
    "data.head()"
   ]
  },
  {
   "cell_type": "code",
   "execution_count": 1,
   "metadata": {},
   "outputs": [
    {
     "data": {
      "text/plain": [
       "'C:\\\\Users\\\\Kaibo\\\\Jupyter'"
      ]
     },
     "execution_count": 1,
     "metadata": {},
     "output_type": "execute_result"
    }
   ],
   "source": [
    "import os\n",
    "os.getcwd()"
   ]
  },
  {
   "cell_type": "code",
   "execution_count": 2,
   "metadata": {},
   "outputs": [
    {
     "data": {
      "text/plain": [
       "DATE                             datetime64[ns]\n",
       "TIME                                     object\n",
       "BOROUGH                                  object\n",
       "ZIP CODE                                 object\n",
       "LATITUDE                                float64\n",
       "LONGITUDE                               float64\n",
       "LOCATION                                 object\n",
       "ON STREET NAME                           object\n",
       "CROSS STREET NAME                        object\n",
       "OFF STREET NAME                          object\n",
       "NUMBER OF PERSONS INJURED               float64\n",
       "NUMBER OF PERSONS KILLED                float64\n",
       "NUMBER OF PEDESTRIANS INJURED             int64\n",
       "NUMBER OF PEDESTRIANS KILLED              int64\n",
       "NUMBER OF CYCLIST INJURED                 int64\n",
       "NUMBER OF CYCLIST KILLED                  int64\n",
       "NUMBER OF MOTORIST INJURED                int64\n",
       "NUMBER OF MOTORIST KILLED                 int64\n",
       "CONTRIBUTING FACTOR VEHICLE 1            object\n",
       "CONTRIBUTING FACTOR VEHICLE 2            object\n",
       "CONTRIBUTING FACTOR VEHICLE 3            object\n",
       "CONTRIBUTING FACTOR VEHICLE 4            object\n",
       "CONTRIBUTING FACTOR VEHICLE 5            object\n",
       "UNIQUE KEY                                int64\n",
       "VEHICLE TYPE CODE 1                      object\n",
       "VEHICLE TYPE CODE 2                      object\n",
       "VEHICLE TYPE CODE 3                      object\n",
       "VEHICLE TYPE CODE 4                      object\n",
       "VEHICLE TYPE CODE 5                      object\n",
       "dtype: object"
      ]
     },
     "execution_count": 2,
     "metadata": {},
     "output_type": "execute_result"
    }
   ],
   "source": [
    "data.dtypes"
   ]
  },
  {
   "cell_type": "code",
   "execution_count": 7,
   "metadata": {},
   "outputs": [
    {
     "data": {
      "text/html": [
       "<div>\n",
       "<style scoped>\n",
       "    .dataframe tbody tr th:only-of-type {\n",
       "        vertical-align: middle;\n",
       "    }\n",
       "\n",
       "    .dataframe tbody tr th {\n",
       "        vertical-align: top;\n",
       "    }\n",
       "\n",
       "    .dataframe thead th {\n",
       "        text-align: right;\n",
       "    }\n",
       "</style>\n",
       "<table border=\"1\" class=\"dataframe\">\n",
       "  <thead>\n",
       "    <tr style=\"text-align: right;\">\n",
       "      <th></th>\n",
       "      <th>DATE</th>\n",
       "      <th>TIME</th>\n",
       "      <th>BOROUGH</th>\n",
       "      <th>ZIP CODE</th>\n",
       "      <th>LATITUDE</th>\n",
       "      <th>LONGITUDE</th>\n",
       "      <th>LOCATION</th>\n",
       "      <th>ON STREET NAME</th>\n",
       "      <th>CROSS STREET NAME</th>\n",
       "      <th>OFF STREET NAME</th>\n",
       "      <th>...</th>\n",
       "      <th>CONTRIBUTING FACTOR VEHICLE 2</th>\n",
       "      <th>CONTRIBUTING FACTOR VEHICLE 3</th>\n",
       "      <th>CONTRIBUTING FACTOR VEHICLE 4</th>\n",
       "      <th>CONTRIBUTING FACTOR VEHICLE 5</th>\n",
       "      <th>UNIQUE KEY</th>\n",
       "      <th>VEHICLE TYPE CODE 1</th>\n",
       "      <th>VEHICLE TYPE CODE 2</th>\n",
       "      <th>VEHICLE TYPE CODE 3</th>\n",
       "      <th>VEHICLE TYPE CODE 4</th>\n",
       "      <th>VEHICLE TYPE CODE 5</th>\n",
       "    </tr>\n",
       "  </thead>\n",
       "  <tbody>\n",
       "    <tr>\n",
       "      <th>121</th>\n",
       "      <td>2018-12-29</td>\n",
       "      <td>19:45</td>\n",
       "      <td>NaN</td>\n",
       "      <td>NaN</td>\n",
       "      <td>NaN</td>\n",
       "      <td>NaN</td>\n",
       "      <td>NaN</td>\n",
       "      <td>EAST BEDFORD PARK BOULEVARD</td>\n",
       "      <td>NaN</td>\n",
       "      <td>NaN</td>\n",
       "      <td>...</td>\n",
       "      <td>NaN</td>\n",
       "      <td>NaN</td>\n",
       "      <td>NaN</td>\n",
       "      <td>NaN</td>\n",
       "      <td>4055860</td>\n",
       "      <td>Sedan</td>\n",
       "      <td>NaN</td>\n",
       "      <td>NaN</td>\n",
       "      <td>NaN</td>\n",
       "      <td>NaN</td>\n",
       "    </tr>\n",
       "    <tr>\n",
       "      <th>564</th>\n",
       "      <td>2018-12-24</td>\n",
       "      <td>10:00</td>\n",
       "      <td>NaN</td>\n",
       "      <td>NaN</td>\n",
       "      <td>NaN</td>\n",
       "      <td>NaN</td>\n",
       "      <td>NaN</td>\n",
       "      <td>CROSS ISLAND PARKWAY</td>\n",
       "      <td>NaN</td>\n",
       "      <td>NaN</td>\n",
       "      <td>...</td>\n",
       "      <td>NaN</td>\n",
       "      <td>NaN</td>\n",
       "      <td>NaN</td>\n",
       "      <td>NaN</td>\n",
       "      <td>4055249</td>\n",
       "      <td>Sedan</td>\n",
       "      <td>NaN</td>\n",
       "      <td>NaN</td>\n",
       "      <td>NaN</td>\n",
       "      <td>NaN</td>\n",
       "    </tr>\n",
       "    <tr>\n",
       "      <th>7206</th>\n",
       "      <td>2018-12-17</td>\n",
       "      <td>14:30</td>\n",
       "      <td>NaN</td>\n",
       "      <td>NaN</td>\n",
       "      <td>40.759270</td>\n",
       "      <td>-73.980896</td>\n",
       "      <td>(40.75927, -73.980896)</td>\n",
       "      <td>WEST 49 STREET</td>\n",
       "      <td>NaN</td>\n",
       "      <td>NaN</td>\n",
       "      <td>...</td>\n",
       "      <td>NaN</td>\n",
       "      <td>NaN</td>\n",
       "      <td>NaN</td>\n",
       "      <td>NaN</td>\n",
       "      <td>4047978</td>\n",
       "      <td>NaN</td>\n",
       "      <td>NaN</td>\n",
       "      <td>NaN</td>\n",
       "      <td>NaN</td>\n",
       "      <td>NaN</td>\n",
       "    </tr>\n",
       "    <tr>\n",
       "      <th>7473</th>\n",
       "      <td>2018-11-27</td>\n",
       "      <td>17:17</td>\n",
       "      <td>NaN</td>\n",
       "      <td>NaN</td>\n",
       "      <td>40.651512</td>\n",
       "      <td>-74.007340</td>\n",
       "      <td>(40.651512, -74.00734)</td>\n",
       "      <td>41 STREET</td>\n",
       "      <td>NaN</td>\n",
       "      <td>NaN</td>\n",
       "      <td>...</td>\n",
       "      <td>NaN</td>\n",
       "      <td>NaN</td>\n",
       "      <td>NaN</td>\n",
       "      <td>NaN</td>\n",
       "      <td>4033872</td>\n",
       "      <td>Sedan</td>\n",
       "      <td>NaN</td>\n",
       "      <td>NaN</td>\n",
       "      <td>NaN</td>\n",
       "      <td>NaN</td>\n",
       "    </tr>\n",
       "    <tr>\n",
       "      <th>7815</th>\n",
       "      <td>2018-11-27</td>\n",
       "      <td>17:18</td>\n",
       "      <td>NaN</td>\n",
       "      <td>NaN</td>\n",
       "      <td>40.801155</td>\n",
       "      <td>-73.959656</td>\n",
       "      <td>(40.801155, -73.959656)</td>\n",
       "      <td>CATHEDRAL PARKWAY</td>\n",
       "      <td>NaN</td>\n",
       "      <td>NaN</td>\n",
       "      <td>...</td>\n",
       "      <td>NaN</td>\n",
       "      <td>NaN</td>\n",
       "      <td>NaN</td>\n",
       "      <td>NaN</td>\n",
       "      <td>4034033</td>\n",
       "      <td>Sedan</td>\n",
       "      <td>NaN</td>\n",
       "      <td>NaN</td>\n",
       "      <td>NaN</td>\n",
       "      <td>NaN</td>\n",
       "    </tr>\n",
       "  </tbody>\n",
       "</table>\n",
       "<p>5 rows × 29 columns</p>\n",
       "</div>"
      ],
      "text/plain": [
       "           DATE   TIME BOROUGH ZIP CODE   LATITUDE  LONGITUDE  \\\n",
       "121  2018-12-29  19:45     NaN      NaN        NaN        NaN   \n",
       "564  2018-12-24  10:00     NaN      NaN        NaN        NaN   \n",
       "7206 2018-12-17  14:30     NaN      NaN  40.759270 -73.980896   \n",
       "7473 2018-11-27  17:17     NaN      NaN  40.651512 -74.007340   \n",
       "7815 2018-11-27  17:18     NaN      NaN  40.801155 -73.959656   \n",
       "\n",
       "                     LOCATION                    ON STREET NAME  \\\n",
       "121                       NaN  EAST BEDFORD PARK BOULEVARD        \n",
       "564                       NaN  CROSS ISLAND PARKWAY               \n",
       "7206   (40.75927, -73.980896)  WEST 49 STREET                     \n",
       "7473   (40.651512, -74.00734)  41 STREET                          \n",
       "7815  (40.801155, -73.959656)  CATHEDRAL PARKWAY                  \n",
       "\n",
       "     CROSS STREET NAME OFF STREET NAME  ...  CONTRIBUTING FACTOR VEHICLE 2  \\\n",
       "121                NaN             NaN  ...                            NaN   \n",
       "564                NaN             NaN  ...                            NaN   \n",
       "7206               NaN             NaN  ...                            NaN   \n",
       "7473               NaN             NaN  ...                            NaN   \n",
       "7815               NaN             NaN  ...                            NaN   \n",
       "\n",
       "      CONTRIBUTING FACTOR VEHICLE 3  CONTRIBUTING FACTOR VEHICLE 4  \\\n",
       "121                             NaN                            NaN   \n",
       "564                             NaN                            NaN   \n",
       "7206                            NaN                            NaN   \n",
       "7473                            NaN                            NaN   \n",
       "7815                            NaN                            NaN   \n",
       "\n",
       "      CONTRIBUTING FACTOR VEHICLE 5  UNIQUE KEY  VEHICLE TYPE CODE 1  \\\n",
       "121                             NaN     4055860                Sedan   \n",
       "564                             NaN     4055249                Sedan   \n",
       "7206                            NaN     4047978                  NaN   \n",
       "7473                            NaN     4033872                Sedan   \n",
       "7815                            NaN     4034033                Sedan   \n",
       "\n",
       "      VEHICLE TYPE CODE 2  VEHICLE TYPE CODE 3 VEHICLE TYPE CODE 4  \\\n",
       "121                   NaN                  NaN                 NaN   \n",
       "564                   NaN                  NaN                 NaN   \n",
       "7206                  NaN                  NaN                 NaN   \n",
       "7473                  NaN                  NaN                 NaN   \n",
       "7815                  NaN                  NaN                 NaN   \n",
       "\n",
       "     VEHICLE TYPE CODE 5  \n",
       "121                  NaN  \n",
       "564                  NaN  \n",
       "7206                 NaN  \n",
       "7473                 NaN  \n",
       "7815                 NaN  \n",
       "\n",
       "[5 rows x 29 columns]"
      ]
     },
     "execution_count": 7,
     "metadata": {},
     "output_type": "execute_result"
    }
   ],
   "source": [
    "is_not_19 = data.DATE.dt.year < 2019\n",
    "data[is_not_19].head()"
   ]
  },
  {
   "cell_type": "code",
   "execution_count": 9,
   "metadata": {},
   "outputs": [
    {
     "data": {
      "text/plain": [
       "368034.0"
      ]
     },
     "execution_count": 9,
     "metadata": {},
     "output_type": "execute_result"
    }
   ],
   "source": [
    "data.loc[is_not_19, \"NUMBER OF PERSONS INJURED\"].sum()"
   ]
  },
  {
   "cell_type": "code",
   "execution_count": 23,
   "metadata": {},
   "outputs": [
    {
     "data": {
      "text/html": [
       "<div>\n",
       "<style scoped>\n",
       "    .dataframe tbody tr th:only-of-type {\n",
       "        vertical-align: middle;\n",
       "    }\n",
       "\n",
       "    .dataframe tbody tr th {\n",
       "        vertical-align: top;\n",
       "    }\n",
       "\n",
       "    .dataframe thead th {\n",
       "        text-align: right;\n",
       "    }\n",
       "</style>\n",
       "<table border=\"1\" class=\"dataframe\">\n",
       "  <thead>\n",
       "    <tr style=\"text-align: right;\">\n",
       "      <th></th>\n",
       "      <th>DATE</th>\n",
       "      <th>TIME</th>\n",
       "      <th>NUMBER OF PERSONS INJURED</th>\n",
       "      <th>NUMBER OF PERSONS KILLED</th>\n",
       "    </tr>\n",
       "  </thead>\n",
       "  <tbody>\n",
       "    <tr>\n",
       "      <th>121</th>\n",
       "      <td>2018-12-29</td>\n",
       "      <td>19:45</td>\n",
       "      <td>1.0</td>\n",
       "      <td>0.0</td>\n",
       "    </tr>\n",
       "    <tr>\n",
       "      <th>564</th>\n",
       "      <td>2018-12-24</td>\n",
       "      <td>10:00</td>\n",
       "      <td>0.0</td>\n",
       "      <td>0.0</td>\n",
       "    </tr>\n",
       "    <tr>\n",
       "      <th>7206</th>\n",
       "      <td>2018-12-17</td>\n",
       "      <td>14:30</td>\n",
       "      <td>0.0</td>\n",
       "      <td>0.0</td>\n",
       "    </tr>\n",
       "    <tr>\n",
       "      <th>7473</th>\n",
       "      <td>2018-11-27</td>\n",
       "      <td>17:17</td>\n",
       "      <td>0.0</td>\n",
       "      <td>0.0</td>\n",
       "    </tr>\n",
       "    <tr>\n",
       "      <th>7815</th>\n",
       "      <td>2018-11-27</td>\n",
       "      <td>17:18</td>\n",
       "      <td>0.0</td>\n",
       "      <td>0.0</td>\n",
       "    </tr>\n",
       "  </tbody>\n",
       "</table>\n",
       "</div>"
      ],
      "text/plain": [
       "           DATE   TIME  NUMBER OF PERSONS INJURED  NUMBER OF PERSONS KILLED\n",
       "121  2018-12-29  19:45                        1.0                       0.0\n",
       "564  2018-12-24  10:00                        0.0                       0.0\n",
       "7206 2018-12-17  14:30                        0.0                       0.0\n",
       "7473 2018-11-27  17:17                        0.0                       0.0\n",
       "7815 2018-11-27  17:18                        0.0                       0.0"
      ]
     },
     "execution_count": 23,
     "metadata": {},
     "output_type": "execute_result"
    }
   ],
   "source": [
    "data.iloc[[121, 564, 7206, 7473, 7815], [0, 1, 10, 11]]"
   ]
  },
  {
   "cell_type": "code",
   "execution_count": 21,
   "metadata": {},
   "outputs": [
    {
     "data": {
      "text/plain": [
       "DATE                                          2018-11-27 00:00:00\n",
       "TIME                                                        17:18\n",
       "BOROUGH                                                       NaN\n",
       "ZIP CODE                                                      NaN\n",
       "LATITUDE                                                  40.8012\n",
       "LONGITUDE                                                -73.9597\n",
       "LOCATION                                  (40.801155, -73.959656)\n",
       "ON STREET NAME                   CATHEDRAL PARKWAY               \n",
       "CROSS STREET NAME                                             NaN\n",
       "OFF STREET NAME                                               NaN\n",
       "NUMBER OF PERSONS INJURED                                       0\n",
       "NUMBER OF PERSONS KILLED                                        0\n",
       "NUMBER OF PEDESTRIANS INJURED                                   0\n",
       "NUMBER OF PEDESTRIANS KILLED                                    0\n",
       "NUMBER OF CYCLIST INJURED                                       0\n",
       "NUMBER OF CYCLIST KILLED                                        0\n",
       "NUMBER OF MOTORIST INJURED                                      0\n",
       "NUMBER OF MOTORIST KILLED                                       0\n",
       "CONTRIBUTING FACTOR VEHICLE 1                         Unspecified\n",
       "CONTRIBUTING FACTOR VEHICLE 2                                 NaN\n",
       "CONTRIBUTING FACTOR VEHICLE 3                                 NaN\n",
       "CONTRIBUTING FACTOR VEHICLE 4                                 NaN\n",
       "CONTRIBUTING FACTOR VEHICLE 5                                 NaN\n",
       "UNIQUE KEY                                                4034033\n",
       "VEHICLE TYPE CODE 1                                         Sedan\n",
       "VEHICLE TYPE CODE 2                                           NaN\n",
       "VEHICLE TYPE CODE 3                                           NaN\n",
       "VEHICLE TYPE CODE 4                                           NaN\n",
       "VEHICLE TYPE CODE 5                                           NaN\n",
       "Name: 7815, dtype: object"
      ]
     },
     "execution_count": 21,
     "metadata": {},
     "output_type": "execute_result"
    }
   ],
   "source": [
    "data.iloc[7815]"
   ]
  },
  {
   "cell_type": "code",
   "execution_count": 25,
   "metadata": {},
   "outputs": [
    {
     "data": {
      "text/plain": [
       "1.0"
      ]
     },
     "execution_count": 25,
     "metadata": {},
     "output_type": "execute_result"
    }
   ],
   "source": [
    "data.iloc[[121, 564, 7206, 7473, 7815], 10].sum()"
   ]
  },
  {
   "cell_type": "code",
   "execution_count": 27,
   "metadata": {},
   "outputs": [
    {
     "data": {
      "text/plain": [
       "DATE\n",
       "2012    27452.0\n",
       "2013    55124.0\n",
       "2014    51219.0\n",
       "2015    51358.0\n",
       "2016    60304.0\n",
       "2017    60656.0\n",
       "2018    61921.0\n",
       "2019    17558.0\n",
       "Name: NUMBER OF PERSONS INJURED, dtype: float64"
      ]
     },
     "execution_count": 27,
     "metadata": {},
     "output_type": "execute_result"
    }
   ],
   "source": [
    "data.groupby(data.DATE.dt.year)[\"NUMBER OF PERSONS INJURED\"].sum()"
   ]
  },
  {
   "cell_type": "code",
   "execution_count": 28,
   "metadata": {},
   "outputs": [
    {
     "data": {
      "text/plain": [
       "368034.0"
      ]
     },
     "execution_count": 28,
     "metadata": {},
     "output_type": "execute_result"
    }
   ],
   "source": [
    "data.loc[data.DATE.dt.year < 2019, \"NUMBER OF PERSONS INJURED\"].sum()"
   ]
  },
  {
   "cell_type": "code",
   "execution_count": 38,
   "metadata": {},
   "outputs": [
    {
     "data": {
      "text/plain": [
       "BOROUGH\n",
       "BRONX            21661\n",
       "BROOKLYN         47461\n",
       "MANHATTAN        36074\n",
       "QUEENS           41384\n",
       "STATEN ISLAND     6709\n",
       "Name: UNIQUE KEY, dtype: int64"
      ]
     },
     "execution_count": 38,
     "metadata": {},
     "output_type": "execute_result"
    }
   ],
   "source": [
    "data.loc[data.DATE.dt.year == 2016].groupby(\"BOROUGH\")[\"UNIQUE KEY\"].count()"
   ]
  },
  {
   "cell_type": "code",
   "execution_count": 40,
   "metadata": {},
   "outputs": [
    {
     "data": {
      "text/plain": [
       "BROOKLYN         47461\n",
       "QUEENS           41384\n",
       "MANHATTAN        36074\n",
       "BRONX            21661\n",
       "STATEN ISLAND     6709\n",
       "Name: BOROUGH, dtype: int64"
      ]
     },
     "execution_count": 40,
     "metadata": {},
     "output_type": "execute_result"
    }
   ],
   "source": [
    "data.loc[data.DATE.dt.year == 2016][\"BOROUGH\"].value_counts()"
   ]
  },
  {
   "cell_type": "code",
   "execution_count": 45,
   "metadata": {},
   "outputs": [
    {
     "data": {
      "text/plain": [
       "BROOKLYN    47461\n",
       "Name: BOROUGH, dtype: int64"
      ]
     },
     "execution_count": 45,
     "metadata": {},
     "output_type": "execute_result"
    }
   ],
   "source": [
    "dist_count_16 = data.loc[data.DATE.dt.year == 2016][\"BOROUGH\"].value_counts()\n",
    "dist_count_16.loc[\"BROOKLYN\"]"
   ]
  },
  {
   "cell_type": "code",
   "execution_count": 60,
   "metadata": {},
   "outputs": [
    {
     "data": {
      "text/plain": [
       "NaN              76499\n",
       "BROOKLYN         47461\n",
       "QUEENS           41384\n",
       "MANHATTAN        36074\n",
       "BRONX            21661\n",
       "STATEN ISLAND     6709\n",
       "Name: BOROUGH, dtype: int64"
      ]
     },
     "execution_count": 60,
     "metadata": {},
     "output_type": "execute_result"
    }
   ],
   "source": [
    "data.loc[data.DATE.dt.year == 2016][\"BOROUGH\"].value_counts(dropna = False)"
   ]
  },
  {
   "cell_type": "code",
   "execution_count": 69,
   "metadata": {},
   "outputs": [
    {
     "data": {
      "text/plain": [
       "0.30961778079314234"
      ]
     },
     "execution_count": 69,
     "metadata": {},
     "output_type": "execute_result"
    }
   ],
   "source": [
    "is_16 = data.DATE.dt.year == 2016\n",
    "\n",
    "dist_count_16 = data.loc[is_16][\"BOROUGH\"].value_counts(dropna = True)\n",
    "total_notna_16 = dist_count_16.sum()\n",
    "\n",
    "dist_count_16[\"BROOKLYN\"] / total_notna_16"
   ]
  },
  {
   "cell_type": "code",
   "execution_count": 79,
   "metadata": {},
   "outputs": [
    {
     "data": {
      "text/plain": [
       "0.021654742632339373"
      ]
     },
     "execution_count": 79,
     "metadata": {},
     "output_type": "execute_result"
    }
   ],
   "source": [
    "involve_cyc = (data[\"NUMBER OF CYCLIST INJURED\"] > 0) | (data[\"NUMBER OF CYCLIST KILLED\"] > 0)\n",
    "\n",
    "total_16 = data.loc[is_16][\"UNIQUE KEY\"].count()\n",
    "num_involve_cyc = data.loc[is_16 & involve_cyc][\"UNIQUE KEY\"].count()\n",
    "\n",
    "num_involve_cyc / total_16"
   ]
  },
  {
   "cell_type": "code",
   "execution_count": 2,
   "metadata": {},
   "outputs": [
    {
     "name": "stderr",
     "output_type": "stream",
     "text": [
      "D:\\Anaconda3\\lib\\site-packages\\IPython\\core\\interactiveshell.py:3049: DtypeWarning: Columns (3) have mixed types. Specify dtype option on import or set low_memory=False.\n",
      "  interactivity=interactivity, compiler=compiler, result=result)\n"
     ]
    },
    {
     "data": {
      "text/plain": [
       "DATE                             datetime64[ns]\n",
       "TIME                                     object\n",
       "BOROUGH                                  object\n",
       "ZIP CODE                                 object\n",
       "LATITUDE                                float64\n",
       "LONGITUDE                               float64\n",
       "LOCATION                                 object\n",
       "ON STREET NAME                           object\n",
       "CROSS STREET NAME                        object\n",
       "OFF STREET NAME                          object\n",
       "NUMBER OF PERSONS INJURED               float64\n",
       "NUMBER OF PERSONS KILLED                float64\n",
       "NUMBER OF PEDESTRIANS INJURED             int64\n",
       "NUMBER OF PEDESTRIANS KILLED              int64\n",
       "NUMBER OF CYCLIST INJURED                 int64\n",
       "NUMBER OF CYCLIST KILLED                  int64\n",
       "NUMBER OF MOTORIST INJURED                int64\n",
       "NUMBER OF MOTORIST KILLED                 int64\n",
       "CONTRIBUTING FACTOR VEHICLE 1            object\n",
       "CONTRIBUTING FACTOR VEHICLE 2            object\n",
       "CONTRIBUTING FACTOR VEHICLE 3            object\n",
       "CONTRIBUTING FACTOR VEHICLE 4            object\n",
       "CONTRIBUTING FACTOR VEHICLE 5            object\n",
       "UNIQUE KEY                                int64\n",
       "VEHICLE TYPE CODE 1                      object\n",
       "VEHICLE TYPE CODE 2                      object\n",
       "VEHICLE TYPE CODE 3                      object\n",
       "VEHICLE TYPE CODE 4                      object\n",
       "VEHICLE TYPE CODE 5                      object\n",
       "dtype: object"
      ]
     },
     "execution_count": 2,
     "metadata": {},
     "output_type": "execute_result"
    }
   ],
   "source": [
    "import pandas as pd\n",
    "\n",
    "data = pd.read_csv(\"NYPD_test.csv\", parse_dates = [\"DATE\"])\n",
    "\n",
    "#is_17 = data.DATE.dt.year == 2017\n",
    "#is_factor = data[\"CONTRIBUTING FACTOR VEHICLE 1\"]\n",
    "\n",
    "data.dtypes"
   ]
  },
  {
   "cell_type": "code",
   "execution_count": 28,
   "metadata": {},
   "outputs": [
    {
     "data": {
      "text/html": [
       "<div>\n",
       "<style scoped>\n",
       "    .dataframe tbody tr th:only-of-type {\n",
       "        vertical-align: middle;\n",
       "    }\n",
       "\n",
       "    .dataframe tbody tr th {\n",
       "        vertical-align: top;\n",
       "    }\n",
       "\n",
       "    .dataframe thead th {\n",
       "        text-align: right;\n",
       "    }\n",
       "</style>\n",
       "<table border=\"1\" class=\"dataframe\">\n",
       "  <thead>\n",
       "    <tr style=\"text-align: right;\">\n",
       "      <th></th>\n",
       "      <th>DATE</th>\n",
       "      <th>ZIP CODE</th>\n",
       "      <th>CONTRIBUTING FACTOR VEHICLE 1</th>\n",
       "      <th>CONTRIBUTING FACTOR VEHICLE 2</th>\n",
       "      <th>CONTRIBUTING FACTOR VEHICLE 3</th>\n",
       "      <th>CONTRIBUTING FACTOR VEHICLE 5</th>\n",
       "    </tr>\n",
       "  </thead>\n",
       "  <tbody>\n",
       "    <tr>\n",
       "      <th>0</th>\n",
       "      <td>2019-04-28</td>\n",
       "      <td>11208</td>\n",
       "      <td>Other Vehicular</td>\n",
       "      <td>Passing Too Closely</td>\n",
       "      <td>NaN</td>\n",
       "      <td>NaN</td>\n",
       "    </tr>\n",
       "    <tr>\n",
       "      <th>1</th>\n",
       "      <td>2019-04-28</td>\n",
       "      <td>11419</td>\n",
       "      <td>Driver Inattention/Distraction</td>\n",
       "      <td>Unspecified</td>\n",
       "      <td>NaN</td>\n",
       "      <td>NaN</td>\n",
       "    </tr>\n",
       "    <tr>\n",
       "      <th>2</th>\n",
       "      <td>2019-04-28</td>\n",
       "      <td>NaN</td>\n",
       "      <td>Passing or Lane Usage Improper</td>\n",
       "      <td>Unspecified</td>\n",
       "      <td>NaN</td>\n",
       "      <td>NaN</td>\n",
       "    </tr>\n",
       "    <tr>\n",
       "      <th>3</th>\n",
       "      <td>2019-04-28</td>\n",
       "      <td>11369</td>\n",
       "      <td>Driver Inattention/Distraction</td>\n",
       "      <td>Unspecified</td>\n",
       "      <td>NaN</td>\n",
       "      <td>NaN</td>\n",
       "    </tr>\n",
       "    <tr>\n",
       "      <th>4</th>\n",
       "      <td>2019-04-28</td>\n",
       "      <td>11233</td>\n",
       "      <td>View Obstructed/Limited</td>\n",
       "      <td>Unspecified</td>\n",
       "      <td>Unspecified</td>\n",
       "      <td>NaN</td>\n",
       "    </tr>\n",
       "    <tr>\n",
       "      <th>5</th>\n",
       "      <td>2019-04-28</td>\n",
       "      <td>NaN</td>\n",
       "      <td>Following Too Closely</td>\n",
       "      <td>Unspecified</td>\n",
       "      <td>NaN</td>\n",
       "      <td>NaN</td>\n",
       "    </tr>\n",
       "    <tr>\n",
       "      <th>6</th>\n",
       "      <td>2019-04-28</td>\n",
       "      <td>NaN</td>\n",
       "      <td>Driver Inattention/Distraction</td>\n",
       "      <td>Unspecified</td>\n",
       "      <td>NaN</td>\n",
       "      <td>NaN</td>\n",
       "    </tr>\n",
       "    <tr>\n",
       "      <th>7</th>\n",
       "      <td>2019-04-28</td>\n",
       "      <td>10016</td>\n",
       "      <td>Driver Inattention/Distraction</td>\n",
       "      <td>Driver Inattention/Distraction</td>\n",
       "      <td>NaN</td>\n",
       "      <td>NaN</td>\n",
       "    </tr>\n",
       "    <tr>\n",
       "      <th>8</th>\n",
       "      <td>2019-04-28</td>\n",
       "      <td>NaN</td>\n",
       "      <td>Passing Too Closely</td>\n",
       "      <td>Unspecified</td>\n",
       "      <td>NaN</td>\n",
       "      <td>NaN</td>\n",
       "    </tr>\n",
       "    <tr>\n",
       "      <th>9</th>\n",
       "      <td>2019-04-28</td>\n",
       "      <td>11233</td>\n",
       "      <td>Unspecified</td>\n",
       "      <td>NaN</td>\n",
       "      <td>NaN</td>\n",
       "      <td>NaN</td>\n",
       "    </tr>\n",
       "  </tbody>\n",
       "</table>\n",
       "</div>"
      ],
      "text/plain": [
       "        DATE ZIP CODE   CONTRIBUTING FACTOR VEHICLE 1  \\\n",
       "0 2019-04-28    11208                 Other Vehicular   \n",
       "1 2019-04-28    11419  Driver Inattention/Distraction   \n",
       "2 2019-04-28      NaN  Passing or Lane Usage Improper   \n",
       "3 2019-04-28    11369  Driver Inattention/Distraction   \n",
       "4 2019-04-28    11233         View Obstructed/Limited   \n",
       "5 2019-04-28      NaN           Following Too Closely   \n",
       "6 2019-04-28      NaN  Driver Inattention/Distraction   \n",
       "7 2019-04-28    10016  Driver Inattention/Distraction   \n",
       "8 2019-04-28      NaN             Passing Too Closely   \n",
       "9 2019-04-28    11233                     Unspecified   \n",
       "\n",
       "    CONTRIBUTING FACTOR VEHICLE 2 CONTRIBUTING FACTOR VEHICLE 3  \\\n",
       "0             Passing Too Closely                           NaN   \n",
       "1                     Unspecified                           NaN   \n",
       "2                     Unspecified                           NaN   \n",
       "3                     Unspecified                           NaN   \n",
       "4                     Unspecified                   Unspecified   \n",
       "5                     Unspecified                           NaN   \n",
       "6                     Unspecified                           NaN   \n",
       "7  Driver Inattention/Distraction                           NaN   \n",
       "8                     Unspecified                           NaN   \n",
       "9                             NaN                           NaN   \n",
       "\n",
       "  CONTRIBUTING FACTOR VEHICLE 5  \n",
       "0                           NaN  \n",
       "1                           NaN  \n",
       "2                           NaN  \n",
       "3                           NaN  \n",
       "4                           NaN  \n",
       "5                           NaN  \n",
       "6                           NaN  \n",
       "7                           NaN  \n",
       "8                           NaN  \n",
       "9                           NaN  "
      ]
     },
     "execution_count": 28,
     "metadata": {},
     "output_type": "execute_result"
    }
   ],
   "source": [
    "#is_17 = data.DATE.dt.year == 2017\n",
    "#is_factor = data.iloc[:,[18,19]].str.contains(\"Unspecified\")\n",
    "\n",
    "data.iloc[:,[0,3,18,19,20.21,22]].head(10)"
   ]
  },
  {
   "cell_type": "code",
   "execution_count": 284,
   "metadata": {},
   "outputs": [
    {
     "data": {
      "text/plain": [
       "BROOKLYN         0.000227\n",
       "QUEENS           0.000217\n",
       "STATEN ISLAND    0.000209\n",
       "BRONX            0.000186\n",
       "MANHATTAN        0.000156\n",
       "Name: Ratio, dtype: float64"
      ]
     },
     "execution_count": 284,
     "metadata": {},
     "output_type": "execute_result"
    }
   ],
   "source": [
    "is_17 = data.DATE.dt.year == 2017\n",
    "is_alcohol = (data.iloc[:,18].str.contains(\"Alcohol\"))|(data.iloc[:,19].str.contains(\"Alcohol\"))|(data.iloc[:,20].str.contains(\"Alcohol\"))|(data.iloc[:,21].str.contains(\"Alcohol\"))|(data.iloc[:,22].str.contains(\"Alcohol\"))\n",
    "#Filter for year 2017 and 'Alcohol' in all 'CONTRIBUTING FACTOR' columns\n",
    "ratio_alcohol = pd.DataFrame(data[is_17 & is_alcohol][\"BOROUGH\"].value_counts())\n",
    "pop_ny = [2648771, 2358582, 1471160, 1664727, 479458]\n",
    "#pop_ny = {'BROOKLYN':2648771, 'QUEENS':2358582, 'BRONX':1471160, 'MANHATTAN':1664727, 'STATEN ISLAND':479458}\n",
    "#pop_ny = {['BROOKLYN', 'QUEENS', 'BRONX', 'MANHATTAN', 'STATEN ISLAND'],[2648771, 2358582, 1471160, 1664727, 479458]}\n",
    "#Count values by 'BOROUGH' and input population data\n",
    "ratio_alcohol['Population'] = pop_ny\n",
    "ratio_alcohol['Ratio'] = ratio_alcohol.BOROUGH / ratio_alcohol.Population\n",
    "#Calculate rate for each 'BOROUGH'\n",
    "ratio_alcohol['Ratio'].sort_values(ascending=False)\n",
    "#Get the maximum of 'Ratio'\n"
   ]
  },
  {
   "cell_type": "code",
   "execution_count": 29,
   "metadata": {},
   "outputs": [
    {
     "data": {
      "text/html": [
       "<div>\n",
       "<style scoped>\n",
       "    .dataframe tbody tr th:only-of-type {\n",
       "        vertical-align: middle;\n",
       "    }\n",
       "\n",
       "    .dataframe tbody tr th {\n",
       "        vertical-align: top;\n",
       "    }\n",
       "\n",
       "    .dataframe thead th {\n",
       "        text-align: right;\n",
       "    }\n",
       "</style>\n",
       "<table border=\"1\" class=\"dataframe\">\n",
       "  <thead>\n",
       "    <tr style=\"text-align: right;\">\n",
       "      <th></th>\n",
       "      <th>DATE</th>\n",
       "      <th>ZIP CODE</th>\n",
       "      <th>VEHICLE TYPE CODE 1</th>\n",
       "      <th>VEHICLE TYPE CODE 2</th>\n",
       "      <th>VEHICLE TYPE CODE 3</th>\n",
       "      <th>VEHICLE TYPE CODE 4</th>\n",
       "      <th>VEHICLE TYPE CODE 5</th>\n",
       "    </tr>\n",
       "  </thead>\n",
       "  <tbody>\n",
       "    <tr>\n",
       "      <th>515403</th>\n",
       "      <td>2016-12-29</td>\n",
       "      <td>NaN</td>\n",
       "      <td>PASSENGER VEHICLE</td>\n",
       "      <td>NaN</td>\n",
       "      <td>NaN</td>\n",
       "      <td>NaN</td>\n",
       "      <td>NaN</td>\n",
       "    </tr>\n",
       "    <tr>\n",
       "      <th>515492</th>\n",
       "      <td>2016-12-29</td>\n",
       "      <td>NaN</td>\n",
       "      <td>PICK-UP TRUCK</td>\n",
       "      <td>SPORT UTILITY / STATION WAGON</td>\n",
       "      <td>NaN</td>\n",
       "      <td>NaN</td>\n",
       "      <td>NaN</td>\n",
       "    </tr>\n",
       "    <tr>\n",
       "      <th>515538</th>\n",
       "      <td>2016-12-29</td>\n",
       "      <td>NaN</td>\n",
       "      <td>PASSENGER VEHICLE</td>\n",
       "      <td>NaN</td>\n",
       "      <td>NaN</td>\n",
       "      <td>NaN</td>\n",
       "      <td>NaN</td>\n",
       "    </tr>\n",
       "    <tr>\n",
       "      <th>515584</th>\n",
       "      <td>2016-12-28</td>\n",
       "      <td>NaN</td>\n",
       "      <td>AMBUL</td>\n",
       "      <td>NaN</td>\n",
       "      <td>NaN</td>\n",
       "      <td>NaN</td>\n",
       "      <td>NaN</td>\n",
       "    </tr>\n",
       "    <tr>\n",
       "      <th>515789</th>\n",
       "      <td>2016-12-27</td>\n",
       "      <td>11377</td>\n",
       "      <td>PASSENGER VEHICLE</td>\n",
       "      <td>NaN</td>\n",
       "      <td>NaN</td>\n",
       "      <td>NaN</td>\n",
       "      <td>NaN</td>\n",
       "    </tr>\n",
       "    <tr>\n",
       "      <th>517214</th>\n",
       "      <td>2016-12-27</td>\n",
       "      <td>10467</td>\n",
       "      <td>PASSENGER VEHICLE</td>\n",
       "      <td>NaN</td>\n",
       "      <td>NaN</td>\n",
       "      <td>NaN</td>\n",
       "      <td>NaN</td>\n",
       "    </tr>\n",
       "    <tr>\n",
       "      <th>517411</th>\n",
       "      <td>2016-12-23</td>\n",
       "      <td>NaN</td>\n",
       "      <td>PASSENGER VEHICLE</td>\n",
       "      <td>NaN</td>\n",
       "      <td>NaN</td>\n",
       "      <td>NaN</td>\n",
       "      <td>NaN</td>\n",
       "    </tr>\n",
       "    <tr>\n",
       "      <th>517455</th>\n",
       "      <td>2016-12-23</td>\n",
       "      <td>NaN</td>\n",
       "      <td>PASSENGER VEHICLE</td>\n",
       "      <td>NaN</td>\n",
       "      <td>NaN</td>\n",
       "      <td>NaN</td>\n",
       "      <td>NaN</td>\n",
       "    </tr>\n",
       "    <tr>\n",
       "      <th>517477</th>\n",
       "      <td>2016-12-23</td>\n",
       "      <td>NaN</td>\n",
       "      <td>SPORT UTILITY / STATION WAGON</td>\n",
       "      <td>NaN</td>\n",
       "      <td>NaN</td>\n",
       "      <td>NaN</td>\n",
       "      <td>NaN</td>\n",
       "    </tr>\n",
       "    <tr>\n",
       "      <th>517632</th>\n",
       "      <td>2016-12-23</td>\n",
       "      <td>10459</td>\n",
       "      <td>PASSENGER VEHICLE</td>\n",
       "      <td>NaN</td>\n",
       "      <td>NaN</td>\n",
       "      <td>NaN</td>\n",
       "      <td>NaN</td>\n",
       "    </tr>\n",
       "  </tbody>\n",
       "</table>\n",
       "</div>"
      ],
      "text/plain": [
       "             DATE ZIP CODE            VEHICLE TYPE CODE 1  \\\n",
       "515403 2016-12-29      NaN              PASSENGER VEHICLE   \n",
       "515492 2016-12-29      NaN                  PICK-UP TRUCK   \n",
       "515538 2016-12-29      NaN              PASSENGER VEHICLE   \n",
       "515584 2016-12-28      NaN                          AMBUL   \n",
       "515789 2016-12-27    11377              PASSENGER VEHICLE   \n",
       "517214 2016-12-27    10467              PASSENGER VEHICLE   \n",
       "517411 2016-12-23      NaN              PASSENGER VEHICLE   \n",
       "517455 2016-12-23      NaN              PASSENGER VEHICLE   \n",
       "517477 2016-12-23      NaN  SPORT UTILITY / STATION WAGON   \n",
       "517632 2016-12-23    10459              PASSENGER VEHICLE   \n",
       "\n",
       "                  VEHICLE TYPE CODE 2 VEHICLE TYPE CODE 3 VEHICLE TYPE CODE 4  \\\n",
       "515403                            NaN                 NaN                 NaN   \n",
       "515492  SPORT UTILITY / STATION WAGON                 NaN                 NaN   \n",
       "515538                            NaN                 NaN                 NaN   \n",
       "515584                            NaN                 NaN                 NaN   \n",
       "515789                            NaN                 NaN                 NaN   \n",
       "517214                            NaN                 NaN                 NaN   \n",
       "517411                            NaN                 NaN                 NaN   \n",
       "517455                            NaN                 NaN                 NaN   \n",
       "517477                            NaN                 NaN                 NaN   \n",
       "517632                            NaN                 NaN                 NaN   \n",
       "\n",
       "       VEHICLE TYPE CODE 5  \n",
       "515403                 NaN  \n",
       "515492                 NaN  \n",
       "515538                 NaN  \n",
       "515584                 NaN  \n",
       "515789                 NaN  \n",
       "517214                 NaN  \n",
       "517411                 NaN  \n",
       "517455                 NaN  \n",
       "517477                 NaN  \n",
       "517632                 NaN  "
      ]
     },
     "execution_count": 29,
     "metadata": {},
     "output_type": "execute_result"
    }
   ],
   "source": [
    "is_16 = data.DATE.dt.year == 2016\n",
    "\n",
    "data[is_16].iloc[:,[0,3,24,25,26,27,28]].head(10)"
   ]
  },
  {
   "cell_type": "code",
   "execution_count": 137,
   "metadata": {},
   "outputs": [
    {
     "data": {
      "text/plain": [
       "ZIP CODE\n",
       "11207.0    5653\n",
       "11101.0    4342\n",
       "11234.0    4230\n",
       "11434.0    4124\n",
       "11203.0    4092\n",
       "dtype: int64"
      ]
     },
     "execution_count": 137,
     "metadata": {},
     "output_type": "execute_result"
    }
   ],
   "source": [
    "is_16 = data.DATE.dt.year == 2016\n",
    "#Filter for year 2016\n",
    "num_vehicle = data.loc[is_16].iloc[:,24:28].count(axis=1)\n",
    "#Count vehicle number as all non-blank entries in 'VEHICLE TYPE' columns\n",
    "num_vehicle.groupby(data[is_16]['ZIP CODE']).sum().sort_values(ascending = False).head()\n",
    "#Sum the vehicle counts grouped by 'ZIP CODE', displaying values descendingly."
   ]
  },
  {
   "cell_type": "code",
   "execution_count": 121,
   "metadata": {},
   "outputs": [
    {
     "data": {
      "text/plain": [
       "array([ 6.44791429e+03, -1.27758211e+07])"
      ]
     },
     "execution_count": 121,
     "metadata": {},
     "output_type": "execute_result"
    }
   ],
   "source": [
    "btw_13_18 = data.DATE.dt.year.between(2013,2018)\n",
    "yearly_col = pd.DataFrame(data[btw_13_18].groupby(data.DATE.dt.year)['UNIQUE KEY'].count()).reset_index()\n",
    "#Create yearly collision number table\n",
    "import numpy as np\n",
    "x = np.array(yearly_col['DATE'])\n",
    "y = np.array(yearly_col['UNIQUE KEY'])\n",
    "lr = np.polyfit(x,y,1)\n",
    "#Use the polyfit function to perform linear regression\n",
    "lr\n",
    "#Return slope and intersection"
   ]
  },
  {
   "cell_type": "code",
   "execution_count": 119,
   "metadata": {},
   "outputs": [
    {
     "data": {
      "image/png": "[encoded data removed]",
      "text/plain": [
       "<Figure size 432x288 with 1 Axes>"
      ]
     },
     "metadata": {
      "needs_background": "light"
     },
     "output_type": "display_data"
    }
   ],
   "source": [
    "btw_13_18 = data.DATE.dt.year.between(2013,2018)\n",
    "yearly_col = pd.DataFrame(data[btw_13_18].groupby(data.DATE.dt.year)['UNIQUE KEY'].count()).reset_index()\n",
    "\n",
    "import numpy as np\n",
    "import matplotlib.pyplot as mpl\n",
    "#from scipy.interpolate import *\n",
    "\n",
    "\n",
    "x = np.array(yearly_col['DATE'])\n",
    "y = np.array(yearly_col['UNIQUE KEY'])\n",
    "lr = np.polyfit(x,y,1)\n",
    "#plug x in the equation y=mx+c\n",
    "mpl.scatter(x, y)\n",
    "mpl.plot(x,np.polyval(lr, x), 'r')\n",
    "mpl.xlabel('Year')\n",
    "mpl.ylabel('Collisions')\n",
    "mpl.show()"
   ]
  },
  {
   "cell_type": "code",
   "execution_count": 176,
   "metadata": {},
   "outputs": [
    {
     "data": {
      "text/plain": [
       "0.9427018504198469"
      ]
     },
     "execution_count": 176,
     "metadata": {},
     "output_type": "execute_result"
    }
   ],
   "source": [
    "from scipy.stats import *\n",
    "is_17 = data.DATE.dt.year == 2017\n",
    "monthly_total = data[is_17].groupby(data.DATE.dt.month)['UNIQUE KEY'].count()\n",
    "monthly_multi = data[is_17].groupby(data.DATE.dt.month)['CONTRIBUTING FACTOR VEHICLE 3'].count()\n",
    "monthly_oli = monthly_total - monthly_multi\n",
    "\n",
    "obsv = np.array([monthly_multi[[1,5]], monthly_oli[[1,5]]])\n",
    "#Create the array of observatied frequencies in Jan. and May\n",
    "chi2, p, dof, expected = chi2_contingency(obsv, correction=False)\n",
    "chi2\n",
    "#Report the chi2 test statistics\n",
    "\n",
    "#msg = \"Chi2: {}\\np-value: {}\\nDOF: {}\\n\"\n",
    "#print(msg.format(chi2,p,dof))\n",
    "#print(expected)"
   ]
  },
  {
   "cell_type": "code",
   "execution_count": 182,
   "metadata": {},
   "outputs": [
    {
     "data": {
      "text/plain": [
       "0.8829808582621844"
      ]
     },
     "execution_count": 182,
     "metadata": {},
     "output_type": "execute_result"
    }
   ],
   "source": [
    "from scipy.stats import *\n",
    "is_17 = data.DATE.dt.year == 2017\n",
    "monthly_total = data[is_17].groupby(data.DATE.dt.month)['UNIQUE KEY'].count()\n",
    "monthly_multi = data[is_17].groupby(data.DATE.dt.month)['CONTRIBUTING FACTOR VEHICLE 3'].count()\n",
    "monthly_oli = monthly_total - monthly_multi\n",
    "\n",
    "chi2, p, dof, expv = chi2_contingency(np.array([monthly_multi[[1,5]], monthly_oli[[1,5]]]))\n",
    "#Create the array of observatied frequencies in Jan. and May\n",
    "obsv = np.array(monthly_multi[[1,5]])\n",
    "chi2, p = chisquare(obsv,expv[0])\n",
    "chi2\n",
    "#Report one-way chi2 test value\n",
    "\n",
    "#expv = [1111.87130151,1331.12869849]\n",
    "#print(\"Chi2: {}\\np-value: {}\\n\".format(chi2,p))"
   ]
  },
  {
   "cell_type": "code",
   "execution_count": 183,
   "metadata": {},
   "outputs": [
    {
     "ename": "ModuleNotFoundError",
     "evalue": "No module named 'geopy'",
     "output_type": "error",
     "traceback": [
      "\u001b[1;31m---------------------------------------------------------------------------\u001b[0m",
      "\u001b[1;31mModuleNotFoundError\u001b[0m                       Traceback (most recent call last)",
      "\u001b[1;32m<ipython-input-183-fd15a51f972c>\u001b[0m in \u001b[0;36m<module>\u001b[1;34m\u001b[0m\n\u001b[1;32m----> 1\u001b[1;33m \u001b[1;32mimport\u001b[0m \u001b[0mgeopy\u001b[0m \u001b[1;32mas\u001b[0m \u001b[0mgp\u001b[0m\u001b[1;33m\u001b[0m\u001b[1;33m\u001b[0m\u001b[0m\n\u001b[0m\u001b[0;32m      2\u001b[0m \u001b[1;33m\u001b[0m\u001b[0m\n\u001b[0;32m      3\u001b[0m \u001b[0mprint\u001b[0m\u001b[1;33m(\u001b[0m\u001b[0mlistdir\u001b[0m\u001b[1;33m(\u001b[0m\u001b[0mgp\u001b[0m\u001b[1;33m)\u001b[0m\u001b[1;33m)\u001b[0m\u001b[1;33m\u001b[0m\u001b[1;33m\u001b[0m\u001b[0m\n",
      "\u001b[1;31mModuleNotFoundError\u001b[0m: No module named 'geopy'"
     ]
    }
   ],
   "source": [
    "import geopy as gp\n",
    "\n",
    "print(listdir(gp))"
   ]
  },
  {
   "cell_type": "code",
   "execution_count": 184,
   "metadata": {},
   "outputs": [
    {
     "data": {
      "text/plain": [
       "DATE                             datetime64[ns]\n",
       "TIME                                     object\n",
       "BOROUGH                                  object\n",
       "ZIP CODE                                 object\n",
       "LATITUDE                                float64\n",
       "LONGITUDE                               float64\n",
       "LOCATION                                 object\n",
       "ON STREET NAME                           object\n",
       "CROSS STREET NAME                        object\n",
       "OFF STREET NAME                          object\n",
       "NUMBER OF PERSONS INJURED               float64\n",
       "NUMBER OF PERSONS KILLED                float64\n",
       "NUMBER OF PEDESTRIANS INJURED             int64\n",
       "NUMBER OF PEDESTRIANS KILLED              int64\n",
       "NUMBER OF CYCLIST INJURED                 int64\n",
       "NUMBER OF CYCLIST KILLED                  int64\n",
       "NUMBER OF MOTORIST INJURED                int64\n",
       "NUMBER OF MOTORIST KILLED                 int64\n",
       "CONTRIBUTING FACTOR VEHICLE 1            object\n",
       "CONTRIBUTING FACTOR VEHICLE 2            object\n",
       "CONTRIBUTING FACTOR VEHICLE 3            object\n",
       "CONTRIBUTING FACTOR VEHICLE 4            object\n",
       "CONTRIBUTING FACTOR VEHICLE 5            object\n",
       "UNIQUE KEY                                int64\n",
       "VEHICLE TYPE CODE 1                      object\n",
       "VEHICLE TYPE CODE 2                      object\n",
       "VEHICLE TYPE CODE 3                      object\n",
       "VEHICLE TYPE CODE 4                      object\n",
       "VEHICLE TYPE CODE 5                      object\n",
       "dtype: object"
      ]
     },
     "execution_count": 184,
     "metadata": {},
     "output_type": "execute_result"
    }
   ],
   "source": [
    "data.dtypes"
   ]
  },
  {
   "cell_type": "code",
   "execution_count": 248,
   "metadata": {},
   "outputs": [
    {
     "data": {
      "text/plain": [
       "ZIP CODE\n",
       "10022.0    5119.212286\n",
       "10036.0    4854.057523\n",
       "10013.0    4273.951830\n",
       "10016.0    3904.520711\n",
       "10001.0    3217.725976\n",
       "dtype: float64"
      ]
     },
     "execution_count": 248,
     "metadata": {},
     "output_type": "execute_result"
    }
   ],
   "source": [
    "is_17 = data.DATE.dt.year == 2017\n",
    "is_within = (data.LATITUDE.between(40,41))&(data.LONGITUDE.between(-75,-73))\n",
    "LKM = {'LATITUDE':111.2, 'LONGITUDE':84.39}\n",
    "#Define conversion factor from degree to kilometer\n",
    "zip_span = data[is_17&is_within].groupby(['ZIP CODE'])['LATITUDE','LONGITUDE'].std()\n",
    "zip_dist = zip_span*LKM\n",
    "zip_area = zip_dist['LATITUDE']*zip_dist['LONGITUDE']*np.pi\n",
    "#Compute the ellipse area as an approximation to the zip code covered area\n",
    "zip_col = data[is_17&is_within].groupby(['ZIP CODE'])['UNIQUE KEY'].count()\n",
    "zip_sum = pd.DataFrame([zip_col, zip_area]).T.rename(columns={'UNIQUE KEY':'COUNTS', 'Unnamed 0':'Area'})\n",
    "#Combine results to a table\n",
    "is_large = (zip_sum['COUNTS'] >= 100)&(zip_sum['Area'] >= 0)\n",
    "(zip_sum[is_large]['COUNTS']/zip_sum[is_large]['Area']).sort_values(ascending=False).head()\n",
    "#Filter through small 'COUNTS' and small 'Area', report the collision per area number descendingly"
   ]
  },
  {
   "cell_type": "code",
   "execution_count": 252,
   "metadata": {},
   "outputs": [
    {
     "data": {
      "text/plain": [
       "368034.0"
      ]
     },
     "execution_count": 252,
     "metadata": {},
     "output_type": "execute_result"
    }
   ],
   "source": [
    "###Q1###\n",
    "is_not_19 = data.DATE.dt.year < 2019\n",
    "data[is_not_19][\"NUMBER OF PERSONS INJURED\"].sum()\n",
    "#Total number of injured"
   ]
  },
  {
   "cell_type": "code",
   "execution_count": 254,
   "metadata": {},
   "outputs": [
    {
     "data": {
      "text/plain": [
       "0.30961778079314234"
      ]
     },
     "execution_count": 254,
     "metadata": {},
     "output_type": "execute_result"
    }
   ],
   "source": [
    "###Q2###\n",
    "is_16 = data.DATE.dt.year == 2016\n",
    "dist_count_16 = data.loc[is_16][\"BOROUGH\"].value_counts(dropna = True)\n",
    "#2016 collisions with a non-null BOROUGH value\n",
    "dist_count_16[\"BROOKLYN\"] / dist_count_16.sum()\n",
    "#Ratio of collisions in Brooklyn in 2016"
   ]
  },
  {
   "cell_type": "code",
   "execution_count": 257,
   "metadata": {},
   "outputs": [
    {
     "data": {
      "text/plain": [
       "0.021654742632339373"
      ]
     },
     "execution_count": 257,
     "metadata": {},
     "output_type": "execute_result"
    }
   ],
   "source": [
    "###Q3###\n",
    "involve_cyc = (data[\"NUMBER OF CYCLIST INJURED\"] > 0) | (data[\"NUMBER OF CYCLIST KILLED\"] > 0)\n",
    "#Filter for collisions with cyclist injuries or deaths\n",
    "total_16 = data[is_16][\"UNIQUE KEY\"].count()\n",
    "#Total number of collisions defined by the 'UNIQUE KEY'\n",
    "num_involve_cyc = data[is_16 & involve_cyc][\"UNIQUE KEY\"].count()\n",
    "num_involve_cyc / total_16\n",
    "#Ratio of collisions with cyclist injuries or deaths in 2016"
   ]
  },
  {
   "cell_type": "code",
   "execution_count": 294,
   "metadata": {},
   "outputs": [
    {
     "data": {
      "text/html": [
       "<div>\n",
       "<style scoped>\n",
       "    .dataframe tbody tr th:only-of-type {\n",
       "        vertical-align: middle;\n",
       "    }\n",
       "\n",
       "    .dataframe tbody tr th {\n",
       "        vertical-align: top;\n",
       "    }\n",
       "\n",
       "    .dataframe thead th {\n",
       "        text-align: right;\n",
       "    }\n",
       "</style>\n",
       "<table border=\"1\" class=\"dataframe\">\n",
       "  <thead>\n",
       "    <tr style=\"text-align: right;\">\n",
       "      <th></th>\n",
       "      <th>BOROUGH</th>\n",
       "      <th>Population</th>\n",
       "      <th>Ratio</th>\n",
       "    </tr>\n",
       "  </thead>\n",
       "  <tbody>\n",
       "    <tr>\n",
       "      <th>BROOKLYN</th>\n",
       "      <td>602</td>\n",
       "      <td>2648771</td>\n",
       "      <td>0.000227</td>\n",
       "    </tr>\n",
       "    <tr>\n",
       "      <th>QUEENS</th>\n",
       "      <td>512</td>\n",
       "      <td>2358582</td>\n",
       "      <td>0.000217</td>\n",
       "    </tr>\n",
       "    <tr>\n",
       "      <th>STATEN ISLAND</th>\n",
       "      <td>100</td>\n",
       "      <td>479458</td>\n",
       "      <td>0.000209</td>\n",
       "    </tr>\n",
       "    <tr>\n",
       "      <th>BRONX</th>\n",
       "      <td>274</td>\n",
       "      <td>1471160</td>\n",
       "      <td>0.000186</td>\n",
       "    </tr>\n",
       "    <tr>\n",
       "      <th>MANHATTAN</th>\n",
       "      <td>259</td>\n",
       "      <td>1664727</td>\n",
       "      <td>0.000156</td>\n",
       "    </tr>\n",
       "  </tbody>\n",
       "</table>\n",
       "</div>"
      ],
      "text/plain": [
       "               BOROUGH  Population     Ratio\n",
       "BROOKLYN           602     2648771  0.000227\n",
       "QUEENS             512     2358582  0.000217\n",
       "STATEN ISLAND      100      479458  0.000209\n",
       "BRONX              274     1471160  0.000186\n",
       "MANHATTAN          259     1664727  0.000156"
      ]
     },
     "execution_count": 294,
     "metadata": {},
     "output_type": "execute_result"
    }
   ],
   "source": [
    "###Q4###\n",
    "is_17 = data.DATE.dt.year == 2017\n",
    "kw = \"[A|a]lcohol\" \n",
    "#Define keyword for collision factors\n",
    "is_alcohol = (data.iloc[:,18].str.contains(kw))|(data.iloc[:,19].str.contains(kw))|(data.iloc[:,20].str.contains(kw))|(data.iloc[:,21].str.contains(kw))|(data.iloc[:,22].str.contains(kw))\n",
    "#Filter all 'CONTRIBUTING FACTOR' columns in year 2017 by the keyword\n",
    "pop_ny = [2648771, 2358582, 1471160, 1664727, 479458]\n",
    "#input population data from wiki\n",
    "ratio_alcohol = pd.DataFrame(data[is_17 & is_alcohol][\"BOROUGH\"].value_counts())\n",
    "#Count values by 'BOROUGH'\n",
    "ratio_alcohol['Population'] = pop_ny\n",
    "ratio_alcohol['Ratio'] = ratio_alcohol.BOROUGH / ratio_alcohol.Population\n",
    "#Calculate rate for each 'BOROUGH'\n",
    "ratio_alcohol.sort_values(by=(['Ratio']),ascending=False)\n",
    "#Get the maximum of 'Ratio'"
   ]
  },
  {
   "cell_type": "code",
   "execution_count": 287,
   "metadata": {},
   "outputs": [
    {
     "data": {
      "text/plain": [
       "ZIP CODE\n",
       "11207.0    5653\n",
       "11101.0    4342\n",
       "11234.0    4230\n",
       "11434.0    4124\n",
       "11203.0    4092\n",
       "dtype: int64"
      ]
     },
     "execution_count": 287,
     "metadata": {},
     "output_type": "execute_result"
    }
   ],
   "source": [
    "###Q5###\n",
    "is_16 = data.DATE.dt.year == 2016\n",
    "#Filter for year 2016\n",
    "num_vehicle = data[is_16].iloc[:,24:28].count(axis=1)\n",
    "#Count vehicle number as all non-blank entries in 'VEHICLE TYPE' columns' columns\n",
    "num_vehicle.groupby(data[is_16]['ZIP CODE']).sum().sort_values(ascending = False).head()\n",
    "#Sum the vehicle counts grouped by 'ZIP CODE', displaying values descendingly."
   ]
  },
  {
   "cell_type": "code",
   "execution_count": 288,
   "metadata": {},
   "outputs": [
    {
     "data": {
      "text/plain": [
       "array([ 6.44791429e+03, -1.27758211e+07])"
      ]
     },
     "execution_count": 288,
     "metadata": {},
     "output_type": "execute_result"
    }
   ],
   "source": [
    "###Q6###\n",
    "import numpy as np\n",
    "btw_13_18 = data.DATE.dt.year.between(2013,2018)\n",
    "yearly_col = pd.DataFrame(data[btw_13_18].groupby(data.DATE.dt.year)['UNIQUE KEY'].count()).reset_index()\n",
    "#Create yearly collision number table\n",
    "x = np.array(yearly_col['DATE'])\n",
    "y = np.array(yearly_col['UNIQUE KEY'])\n",
    "lr = np.polyfit(x,y,1)\n",
    "#Use the polyfit function to perform linear regression\n",
    "lr\n",
    "#Return slope and intersection"
   ]
  },
  {
   "cell_type": "code",
   "execution_count": 291,
   "metadata": {},
   "outputs": [
    {
     "data": {
      "text/plain": [
       "0.9427018504198469"
      ]
     },
     "execution_count": 291,
     "metadata": {},
     "output_type": "execute_result"
    }
   ],
   "source": [
    "###Q7###\n",
    "from scipy.stats import *\n",
    "is_17 = data.DATE.dt.year == 2017\n",
    "monthly_total = data[is_17].groupby(data.DATE.dt.month)['UNIQUE KEY'].count()\n",
    "monthly_multi = data[is_17].groupby(data.DATE.dt.month)['CONTRIBUTING FACTOR VEHICLE 3'].count()\n",
    "monthly_oli = monthly_total - monthly_multi\n",
    "#'monthly_oli' is the frequencies of collisions with less than 3 vehicles\n",
    "obsv = np.array([monthly_multi[[1,5]], monthly_oli[[1,5]]])\n",
    "#Create the array of observatied frequencies in Jan. and May\n",
    "chi2, p, dof, expected = chi2_contingency(obsv, correction=False)\n",
    "chi2\n",
    "#Report the chi2 test statistics\n",
    "#Null hypothesis is not rejected\n",
    "#Therefore the risks of multi-car (>=3) collisions is not significantly different (Jan vs May)"
   ]
  },
  {
   "cell_type": "code",
   "execution_count": 293,
   "metadata": {},
   "outputs": [
    {
     "data": {
      "text/plain": [
       "ZIP CODE\n",
       "10022.0    5119.212286\n",
       "10036.0    4854.057523\n",
       "10013.0    4273.951830\n",
       "10016.0    3904.520711\n",
       "10001.0    3217.725976\n",
       "dtype: float64"
      ]
     },
     "execution_count": 293,
     "metadata": {},
     "output_type": "execute_result"
    }
   ],
   "source": [
    "###Q8###\n",
    "is_17 = data.DATE.dt.year == 2017\n",
    "is_within = (data.LATITUDE.between(40,41))&(data.LONGITUDE.between(-75,-73))\n",
    "#Filter out questionable coordinate values\n",
    "LKM = {'LATITUDE':111.2, 'LONGITUDE':84.39}\n",
    "#Define conversion factor from degree to kilometer\n",
    "zip_span = data[is_17&is_within].groupby(['ZIP CODE'])['LATITUDE','LONGITUDE'].std()\n",
    "zip_dist = zip_span*LKM\n",
    "zip_area = zip_dist['LATITUDE']*zip_dist['LONGITUDE']*np.pi\n",
    "#Compute the ellipse area as an approximation to the zip code covered area\n",
    "zip_col = data[is_17&is_within].groupby(['ZIP CODE'])['UNIQUE KEY'].count()\n",
    "zip_sum = pd.DataFrame([zip_col, zip_area]).T.rename(columns={'UNIQUE KEY':'COUNTS', 'Unnamed 0':'Area'})\n",
    "#Combine results to a table\n",
    "is_large = (zip_sum['COUNTS'] >= 100)&(zip_sum['Area'] >= 0)\n",
    "(zip_sum[is_large]['COUNTS']/zip_sum[is_large]['Area']).sort_values(ascending=False).head()\n",
    "#Filter out small 'COUNTS' and 'Area' values, report the collision per area values descendingly"
   ]
  },
  {
   "cell_type": "code",
   "execution_count": null,
   "metadata": {},
   "outputs": [],
   "source": []
  }
 ],
 "metadata": {
  "kernelspec": {
   "display_name": "Python 3",
   "language": "python",
   "name": "python3"
  },
  "language_info": {
   "codemirror_mode": {
    "name": "ipython",
    "version": 3
   },
   "file_extension": ".py",
   "mimetype": "text/x-python",
   "name": "python",
   "nbconvert_exporter": "python",
   "pygments_lexer": "ipython3",
   "version": "3.7.3"
  }
 },
 "nbformat": 4,
 "nbformat_minor": 2
}
